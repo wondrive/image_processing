{
 "cells": [
  {
   "attachments": {},
   "cell_type": "markdown",
   "metadata": {},
   "source": [
    "Histogram equalization is a technique for adjusting image intensities to enhance contrast.  \n",
    "히스토그램 평준화는 이미지 빛의 강도/세기를 조정하는 기술로, 대비를 높이기 위해 사용함"
   ]
  },
  {
   "attachments": {},
   "cell_type": "markdown",
   "metadata": {},
   "source": []
  },
  {
   "attachments": {},
   "cell_type": "markdown",
   "metadata": {},
   "source": [
    "1. Introduction to Histogram  \n",
    "\n",
    "- 히스토그램: 데이터 발생 빈도를 나타내는 막대그래프  \n",
    "- 이미지의 히스토그램: 픽셀 빛 강도값의 빈도를 나타냄  \n",
    "     - x축: gray level의 intensity를 나타냄\n",
    "     - y축: 그 intensity의 빈도를 나타냄  \n",
    "- 예:\n",
    "     - Grayscale histogram  \n",
    "          <img width=\"30%\" src=\"https://velog.velcdn.com/images%2Fredorangeyellowy%2Fpost%2Fa6ba08ca-29b6-4133-8a9e-7476fcfcfd73%2Fimage.png\">\n",
    "     - Color histogram  \n",
    "          <img width=\"30%\" src=\"https://velog.velcdn.com/images%2Fredorangeyellowy%2Fpost%2Fd9293854-30fc-4b35-96a5-7f21b3a435e7%2Fimage.png\">\n",
    "     "
   ]
  },
  {
   "attachments": {},
   "cell_type": "markdown",
   "metadata": {},
   "source": []
  },
  {
   "cell_type": "code",
   "execution_count": null,
   "metadata": {},
   "outputs": [],
   "source": [
    "# Analyze an Image Histogram using OpenCV\n",
    "\n",
    "import cv2\n",
    "import numpy as np\n",
    "from matplotlib import pypolt as plt\n",
    "img = cv2.imread('')"
   ]
  },
  {
   "attachments": {},
   "cell_type": "markdown",
   "metadata": {},
   "source": [
    "2. Brightness and Contrast"
   ]
  },
  {
   "cell_type": "code",
   "execution_count": null,
   "metadata": {},
   "outputs": [],
   "source": []
  },
  {
   "attachments": {},
   "cell_type": "markdown",
   "metadata": {},
   "source": [
    "3. Histogram Sliding"
   ]
  },
  {
   "attachments": {},
   "cell_type": "markdown",
   "metadata": {},
   "source": []
  },
  {
   "attachments": {},
   "cell_type": "markdown",
   "metadata": {},
   "source": [
    "4. Histogram Equalization"
   ]
  },
  {
   "attachments": {},
   "cell_type": "markdown",
   "metadata": {},
   "source": []
  },
  {
   "attachments": {},
   "cell_type": "markdown",
   "metadata": {},
   "source": []
  }
 ],
 "metadata": {
  "language_info": {
   "name": "python"
  },
  "orig_nbformat": 4
 },
 "nbformat": 4,
 "nbformat_minor": 2
}
